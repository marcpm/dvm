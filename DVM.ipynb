{
  "nbformat": 4,
  "nbformat_minor": 0,
  "metadata": {
    "kernelspec": {
      "display_name": "Python 3",
      "language": "python",
      "name": "python3"
    },
    "language_info": {
      "codemirror_mode": {
        "name": "ipython",
        "version": 3
      },
      "file_extension": ".py",
      "mimetype": "text/x-python",
      "name": "python",
      "nbconvert_exporter": "python",
      "pygments_lexer": "ipython3",
      "version": "3.6.7"
    },
    "colab": {
      "name": "DVM.ipynb",
      "provenance": [],
      "collapsed_sections": []
    }
  },
  "cells": [
    {
      "cell_type": "code",
      "metadata": {
        "id": "BzCudSBYmyB3",
        "colab_type": "code",
        "colab": {}
      },
      "source": [
        "import numpy as np\n",
        "import sympy\n",
        "import pandas as pd\n",
        "import argparse\n",
        "from scipy import stats\n",
        "\n",
        "# from dvm_funcs import dvm_solver\n",
        "\n",
        "import matplotlib.pyplot as plt\n",
        "plt.style.use('fivethirtyeight')\n",
        "%matplotlib inline \n",
        "\n",
        "\n",
        "\n"
      ],
      "execution_count": null,
      "outputs": []
    },
    {
      "cell_type": "markdown",
      "metadata": {
        "id": "iqWF0dltmyCB",
        "colab_type": "text"
      },
      "source": [
        "## Discrete Vortex Solver functions\n"
      ]
    },
    {
      "cell_type": "code",
      "metadata": {
        "id": "6Ec7eciKmyCE",
        "colab_type": "code",
        "colab": {}
      },
      "source": [
        "\n",
        "def airfoil_discretization(args):\n",
        "    \n",
        "    naca = str(args[\"naca\"]) \n",
        "    alpha = args[\"alpha\"]\n",
        "    geo = args[\"geometry\"]\n",
        "    npanels = args[\"panels\"]\n",
        "    flap_pos = args[\"flappos\"]\n",
        "    flap_alpha = args[\"flapalpha\"]\n",
        "    \n",
        "    max_camber = int(naca[0])/100 \n",
        "    max_camber_pos = int(naca[1])/10\n",
        "    thick = int(naca[2:])\n",
        "    npoints = npanels + 1\n",
        "    alpha = np.deg2rad(alpha)\n",
        "        \n",
        "    if geo == \"uniform\":\n",
        "        X = np.linspace(0,1, num=npoints, endpoint=True)\n",
        "    elif geo == \"fullcosine\":\n",
        "        _a = np.arange(1,npoints+1) # arange func stops at n-1\n",
        "        X = 0.5 * (1 - np.cos(((_a-1) / npanels) * np.pi))\n",
        "        \n",
        "    if flap_pos != False:\n",
        "        flap_alpha = np.deg2rad(flap_alpha)\n",
        "            \n",
        "    Z = np.zeros(npoints)    \n",
        "    for i in range(npoints):\n",
        "        if X[i] <= max_camber_pos:\n",
        "            Z[i] = (max_camber/(max_camber_pos**2)) * (2 * max_camber_pos*(X[i])- (X[i]**2))\n",
        "            \n",
        "        elif X[i] > max_camber_pos:\n",
        "             Z[i] = (max_camber/(1-max_camber_pos)**2)*(1-2*max_camber_pos+2*max_camber_pos*(X[i])-(X[i]**2)) \n",
        "                \n",
        "        # Flap\n",
        "        if X[i] >= flap_pos:\n",
        "            Z[i] = Z[i] - np.tan(flap_alpha) * (X[i] - flap_pos)\n",
        "    \n",
        "    XZ_space = np.vstack([X, Z])    \n",
        "    return XZ_space  "
      ],
      "execution_count": null,
      "outputs": []
    },
    {
      "cell_type": "code",
      "metadata": {
        "id": "TRkiXUARJ6Yv",
        "colab_type": "code",
        "colab": {
          "base_uri": "https://localhost:8080/",
          "height": 277
        },
        "outputId": "fab0a255-52ce-49ed-d0ce-74eed51ce5ee"
      },
      "source": [
        "args = {\"naca\": \"2408\", \n",
        "        \"alpha\": 4  ,\n",
        "        \"geometry\": \"uniform\",\n",
        "        \"panels\": 100,\n",
        "        \"flappos\": 0.8,\n",
        "        \"flapalpha\":5\n",
        "        }\n",
        "x,z = airfoil_discretization(args)\n",
        "plt.scatter(x,z)"
      ],
      "execution_count": null,
      "outputs": [
        {
          "output_type": "execute_result",
          "data": {
            "text/plain": [
              "<matplotlib.collections.PathCollection at 0x7f1e19e2ce80>"
            ]
          },
          "metadata": {
            "tags": []
          },
          "execution_count": 8
        },
        {
          "output_type": "display_data",
          "data": {
            "image/png": "[encoded data removed]",
            "text/plain": [
              "<Figure size 432x288 with 1 Axes>"
            ]
          },
          "metadata": {
            "tags": [],
            "needs_background": "light"
          }
        }
      ]
    },
    {
      "cell_type": "code",
      "metadata": {
        "id": "Vqbunc02myCJ",
        "colab_type": "code",
        "colab": {}
      },
      "source": [
        "def dvm_solver2(args):\n",
        "    alpha = args[\"alpha\"]\n",
        "    npanels = args[\"panels\"]\n",
        "    npoints = npanels + 1\n",
        "    alpha = np.deg2rad(alpha)\n",
        "    \n",
        "    XZ_space = airfoil_discretization(args)\n",
        "        \n",
        "    vortex_points = np.zeros((2,npanels))\n",
        "    ctrl_points = np.zeros((2,npanels))  \n",
        "    for i in range(npanels): \n",
        "        # panel length\n",
        "        cordlen = np.sqrt( (XZ_space[0][i+1] - XZ_space[0][i])**2 +\n",
        "                           (XZ_space[1][i+1] - XZ_space[1][i])**2 )\n",
        "        \n",
        "        angle = np.arctan( (XZ_space[1][i+1] - XZ_space[1][i]) / \n",
        "                            (XZ_space[0][i+1] - XZ_space[0][i])   )\n",
        "        \n",
        "        vortex_points[0][i] = XZ_space[0][i] + 1/4 * cordlen * np.cos(angle)\n",
        "        vortex_points[1][i] = XZ_space[1][i] + 1/4 * cordlen * np.sin(angle)\n",
        "        \n",
        "        ctrl_points[0][i] = XZ_space[0][i] + 3/4 * cordlen * np.cos(angle)\n",
        "        ctrl_points[1][i] = XZ_space[1][i] + 3/4 * cordlen * np.sin(angle)\n",
        "        \n",
        "        \n",
        "    inf_coeff = np.zeros((npanels,npanels))    \n",
        "    RHS = np.zeros((npanels,1))\n",
        "    for i in range(npanels): #add npanels -1 ??? last i+1 gonna crash\n",
        "        XZ_deltas = np.zeros((2,1))\n",
        "        #XZ_deltas = XZ_space[:,i+1] - XZ_space[:,i]\n",
        "        XZ_deltas[0] = XZ_space[0][i+1] - XZ_space[0][i]\n",
        "        XZ_deltas[1] = XZ_space[1][i+1] - XZ_space[1][i]\n",
        "        \n",
        "        tan_vector = np.zeros((2,1))\n",
        "        #tan_vector = XZ_deltas / np.sqrt(XZ_deltas[]**2)\n",
        "        tan_vector[0] = XZ_deltas[0] / np.sqrt( XZ_deltas[0]**2 + XZ_deltas[1]**2 )\n",
        "        tan_vector[1] = XZ_deltas[1] / np.sqrt( XZ_deltas[0]**2 + XZ_deltas[1]**2 )\n",
        "        \n",
        "        norm_vector = np.zeros((2,1))\n",
        "        norm_vector[0] = - tan_vector[1]\n",
        "        norm_vector[1] = tan_vector[0]\n",
        "        \n",
        "        for j in range(npanels):\n",
        "            XZ_deltas[0] = ctrl_points[0][i] - vortex_points[0][j]\n",
        "            XZ_deltas[1] = ctrl_points[1][i] -vortex_points[1][j]\n",
        "            \n",
        "            r = np.sqrt(XZ_deltas[0]**2 + XZ_deltas[1]**2 )\n",
        "            \n",
        "            induced_vel = np.zeros((2,1))\n",
        "            induced_vel[0] = 1/(2*np.pi)* XZ_deltas[1]/(r)**2\n",
        "            induced_vel[1] = -1/(2*np.pi)* XZ_deltas[0]/(r)**2\n",
        "            \n",
        "            inf_coeff[i][j] = induced_vel[0] * norm_vector[0] + induced_vel[1]*norm_vector[1]\n",
        "            \n",
        "        RHS[i] = -( np.cos(alpha)*norm_vector[0] + np.sin(alpha)* norm_vector[1] )\n",
        "        \n",
        "    gamma = np.linalg.solve( inf_coeff, RHS)\n",
        "    # flat plate test\n",
        "    #gamba = gamma/np.sin(alpha)*5/np.pi\n",
        "\n",
        "    cl = 2*np.sum(gamma)\n",
        "    \n",
        "    # _sm = np.zeros((npanels, 1))\n",
        "    # for i in range(npanels):\n",
        "    #     _sm[i] = gamma[i]*vortex_points[0][i]*np.cos(alpha)\n",
        "    \n",
        "    \n",
        "    # cmle = -2*np.sum(_sm)\n",
        "    cm_le = -2* ( gamma.reshape(1,-1) * vortex_points[0,:] * np.cos(alpha)).sum()\n",
        "    cm_ac = cm_le + cl/4\n",
        "    # plt.plot(XZ_space)\n",
        "\n",
        "    return {\"cl\": cl, \"cm_le\": cm_le,\"cm_ac\": cm_ac}"
      ],
      "execution_count": null,
      "outputs": []
    },
    {
      "cell_type": "markdown",
      "metadata": {
        "id": "IEpkvPR8fDpZ",
        "colab_type": "text"
      },
      "source": [
        "## Fast Analytical solution using symbolic math library sympy"
      ]
    },
    {
      "cell_type": "code",
      "metadata": {
        "id": "PVESIDvqo709",
        "colab_type": "code",
        "colab": {}
      },
      "source": [
        "import sympy\n",
        "def analytical_TAT_solver(alpha_0=4, f_0=0.02, p_0=0.4):\n",
        "  alpha, f, p, x, theta = sympy.symbols(\"alpha f p x theta\")\n",
        "  alpha, f, p = alpha_0*np.pi/180, f_0, p_0\n",
        "\n",
        "\n",
        "  z_0_p = (f/(p**2)) * (2*p*x -x**2)\n",
        "  z_p_1 = (f/(1-p)**2) * (1 - 2*p +2*p*x - x**2)\n",
        "  dz_0_p = sympy.diff(z_0_p, x).subs(x, 0.5*(1-sympy.cos(theta)))\n",
        "  dz_p_1 = sympy.diff(z_p_1, x).subs(x, 0.5*(1-sympy.cos(theta)))\n",
        "  theta_p = np.arccos(-(p*2 -1))\n",
        "\n",
        "\n",
        "  cl = (2*np.pi)*(alpha+(1/np.pi)*(sympy.integrate(dz_0_p*(sympy.cos(theta)-1), \n",
        "                                          (theta,0,theta_p))\n",
        "                                  + sympy.integrate(dz_p_1*(sympy.cos(theta)-1), \n",
        "                                            (theta,theta_p,np.pi))))\n",
        "\n",
        "  A_1 = (2/np.pi)* ( sympy.integrate(dz_0_p*sympy.cos(theta), \n",
        "                                    (theta, 0, theta_p)) \n",
        "                    + sympy.integrate(dz_p_1*sympy.cos(theta), \n",
        "                                      (theta, theta_p, np.pi)))\n",
        "\n",
        "  A_2 = (2/np.pi)* ( sympy.integrate(dz_0_p*sympy.cos(2*theta), \n",
        "                                    (theta, 0, theta_p)) \n",
        "                    + sympy.integrate(dz_p_1*sympy.cos(2*theta), \n",
        "                                      (theta, theta_p, np.pi)))\n",
        "  cm_le = -(cl/4 + np.pi/4*(A_1-A_2))\n",
        "  cm_ac = np.pi/4 *(A_2-A_1)\n",
        "\n",
        "  return {\"cl\": cl.evalf(), \"cm_le\": cm_le.evalf(), \"cm_ac\": cm_ac.evalf(), \"A_1\": A_1.evalf(), \"A_2\": A_2.evalf() }"
      ],
      "execution_count": null,
      "outputs": []
    },
    {
      "cell_type": "code",
      "metadata": {
        "id": "hqnwV2sj_ue-",
        "colab_type": "code",
        "colab": {
          "base_uri": "https://localhost:8080/",
          "height": 119
        },
        "outputId": "ee4dd9a6-a5c3-4662-9961-7a05f48382ed"
      },
      "source": [
        "results = analytical_TAT_solver(alpha_0=4, f_0=0.02, p_0=0.4)\n",
        "print(\"ANALYTICAL RESULTS:\")\n",
        "for key, value in results.items():\n",
        "  print(key, value)\n"
      ],
      "execution_count": null,
      "outputs": [
        {
          "output_type": "stream",
          "text": [
            "ANALYTICAL RESULTS:\n",
            "cl 0.666443984963538\n",
            "cm_le -0.219730509700976\n",
            "cm_ac -0.0531195134600912\n",
            "A_1 0.0814951416008563\n",
            "A_2 0.0138612764663765\n"
          ],
          "name": "stdout"
        }
      ]
    },
    {
      "cell_type": "code",
      "metadata": {
        "id": "H4ajjdVFo8FA",
        "colab_type": "code",
        "colab": {}
      },
      "source": [
        "def validate_dvm(args):\n",
        "\n",
        "  output = dvm_solver2(args)\n",
        "  print(\"cl = {}, \\n cmle = {} \\n cm0 = {}\".format(*(output).values()))"
      ],
      "execution_count": null,
      "outputs": []
    },
    {
      "cell_type": "code",
      "metadata": {
        "id": "4UcOsWKCo8TB",
        "colab_type": "code",
        "colab": {
          "base_uri": "https://localhost:8080/",
          "height": 102
        },
        "outputId": "1511900d-26d7-43c0-b8f5-93a29f527fe3"
      },
      "source": [
        "%%time\n",
        "args = {\"naca\": \"2408\", \n",
        "            \"alpha\": 4 ,\n",
        "            \"geometry\": \"fullcosine\",\n",
        "            \"panels\": 50,\n",
        "            \"flappos\": False,\n",
        "            \"flapalpha\":False\n",
        "            }\n",
        "validate_dvm(args)"
      ],
      "execution_count": null,
      "outputs": [
        {
          "output_type": "stream",
          "text": [
            "cl = 0.6612588663264093, \n",
            " cmle = -0.2182181518231073 \n",
            " cm0 = -0.05290343524150498\n",
            "CPU times: user 63.3 ms, sys: 8.24 ms, total: 71.6 ms\n",
            "Wall time: 64.6 ms\n"
          ],
          "name": "stdout"
        }
      ]
    },
    {
      "cell_type": "markdown",
      "metadata": {
        "id": "bJjowpWKmyCP",
        "colab_type": "text"
      },
      "source": [
        "# 1 - Verification Assessment\n",
        "\n",
        "\n",
        " - Get data for different panel numbers using ouur dvm solver.\n",
        " - Prepare dataframe with solver data and error data\n",
        " - Clean dataframe\n",
        " - Plot $C_l$ vs $C_{l}$-err and $C_M$ vs $C_l$-err \n",
        "\n",
        "\n"
      ]
    },
    {
      "cell_type": "code",
      "metadata": {
        "id": "uTwVTI17myCQ",
        "colab_type": "code",
        "colab": {}
      },
      "source": [
        "# initialization needed to \"append\" numpyarrays later, inside loop \n",
        "data_array = np.array([[0,0]]) \n",
        "npanels = np.linspace(5,200,100, dtype=int) # linspace of number of panels\n",
        "panel_index=[0]\n",
        "for panel in npanels:\n",
        "    args = {\"naca\": \"2408\", \n",
        "        \"alpha\": 4  ,\n",
        "        \"geometry\": \"uniform\",\n",
        "        \"panels\": panel,\n",
        "        \"flappos\": False,\n",
        "        \"flapalpha\":False\n",
        "        }\n",
        "    panel_index.append(panel) \n",
        "    _result = dvm_solver2(args)\n",
        "    _cl_cmle = [_result[\"cl\"], _result[\"cm_le\"] ]\n",
        "    data_array = np.vstack((data_array, _cl_cmle))\n",
        "    \n",
        "    \n",
        "data = pd.DataFrame(data_array, index=panel_index, columns = [\"cl\", \"cm_le\"])\n",
        "data.index.name = \"Panels\"\n",
        "# Deleting first row created by numpyarray initialization \n",
        "data = data.drop([0])\n",
        "\n",
        "\n"
      ],
      "execution_count": null,
      "outputs": []
    },
    {
      "cell_type": "markdown",
      "metadata": {
        "id": "HAjNPREomyCb",
        "colab_type": "text"
      },
      "source": [
        "#### TAT theoretical reference values and  preview max number of panels data"
      ]
    },
    {
      "cell_type": "markdown",
      "metadata": {
        "id": "TAHumbcTmyCd",
        "colab_type": "text"
      },
      "source": [
        "Using Thin-Airfoil Theory we calculate the theoretical reference values to compare our model to. \n",
        "\n",
        "\n",
        "$C_l$ = 0.666443984963538,\n",
        "\n",
        "$Cm_{le}$\" =  -0.219730509700976 \n"
      ]
    },
    {
      "cell_type": "code",
      "metadata": {
        "id": "OrttnAtNmyCg",
        "colab_type": "code",
        "colab": {
          "base_uri": "https://localhost:8080/",
          "height": 450
        },
        "outputId": "7809065f-6587-43ba-81b2-b8aee10bbfd9"
      },
      "source": [
        "# TAT theoretical reference values\n",
        "ref_values = {\"cl\":0.666443984963538,\"cm_le\": -0.219730509700976 }\n",
        "\n",
        "# Adding error columns for Cl and Cm\n",
        "data[\"cl_error\"] = abs(1- data[\"cl\"]/ref_values[\"cl\"])\n",
        "data[\"cm_error\"] = abs(1- data[\"cm_le\"]/ref_values[\"cm_le\"])\n",
        "data\n"
      ],
      "execution_count": null,
      "outputs": [
        {
          "output_type": "execute_result",
          "data": {
            "text/html": [
              "<div>\n",
              "<style scoped>\n",
              "    .dataframe tbody tr th:only-of-type {\n",
              "        vertical-align: middle;\n",
              "    }\n",
              "\n",
              "    .dataframe tbody tr th {\n",
              "        vertical-align: top;\n",
              "    }\n",
              "\n",
              "    .dataframe thead th {\n",
              "        text-align: right;\n",
              "    }\n",
              "</style>\n",
              "<table border=\"1\" class=\"dataframe\">\n",
              "  <thead>\n",
              "    <tr style=\"text-align: right;\">\n",
              "      <th></th>\n",
              "      <th>cl</th>\n",
              "      <th>cm_le</th>\n",
              "      <th>cl_error</th>\n",
              "      <th>cm_error</th>\n",
              "    </tr>\n",
              "    <tr>\n",
              "      <th>Panels</th>\n",
              "      <th></th>\n",
              "      <th></th>\n",
              "      <th></th>\n",
              "      <th></th>\n",
              "    </tr>\n",
              "  </thead>\n",
              "  <tbody>\n",
              "    <tr>\n",
              "      <th>5</th>\n",
              "      <td>0.624748</td>\n",
              "      <td>-0.209214</td>\n",
              "      <td>0.062565</td>\n",
              "      <td>0.047861</td>\n",
              "    </tr>\n",
              "    <tr>\n",
              "      <th>6</th>\n",
              "      <td>0.631626</td>\n",
              "      <td>-0.211105</td>\n",
              "      <td>0.052245</td>\n",
              "      <td>0.039255</td>\n",
              "    </tr>\n",
              "    <tr>\n",
              "      <th>8</th>\n",
              "      <td>0.640170</td>\n",
              "      <td>-0.213299</td>\n",
              "      <td>0.039424</td>\n",
              "      <td>0.029270</td>\n",
              "    </tr>\n",
              "    <tr>\n",
              "      <th>10</th>\n",
              "      <td>0.645257</td>\n",
              "      <td>-0.214511</td>\n",
              "      <td>0.031792</td>\n",
              "      <td>0.023754</td>\n",
              "    </tr>\n",
              "    <tr>\n",
              "      <th>12</th>\n",
              "      <td>0.648643</td>\n",
              "      <td>-0.215281</td>\n",
              "      <td>0.026710</td>\n",
              "      <td>0.020250</td>\n",
              "    </tr>\n",
              "    <tr>\n",
              "      <th>...</th>\n",
              "      <td>...</td>\n",
              "      <td>...</td>\n",
              "      <td>...</td>\n",
              "      <td>...</td>\n",
              "    </tr>\n",
              "    <tr>\n",
              "      <th>192</th>\n",
              "      <td>0.664446</td>\n",
              "      <td>-0.218494</td>\n",
              "      <td>0.002997</td>\n",
              "      <td>0.005629</td>\n",
              "    </tr>\n",
              "    <tr>\n",
              "      <th>194</th>\n",
              "      <td>0.664457</td>\n",
              "      <td>-0.218496</td>\n",
              "      <td>0.002981</td>\n",
              "      <td>0.005620</td>\n",
              "    </tr>\n",
              "    <tr>\n",
              "      <th>196</th>\n",
              "      <td>0.664468</td>\n",
              "      <td>-0.218498</td>\n",
              "      <td>0.002965</td>\n",
              "      <td>0.005611</td>\n",
              "    </tr>\n",
              "    <tr>\n",
              "      <th>198</th>\n",
              "      <td>0.664478</td>\n",
              "      <td>-0.218499</td>\n",
              "      <td>0.002950</td>\n",
              "      <td>0.005603</td>\n",
              "    </tr>\n",
              "    <tr>\n",
              "      <th>200</th>\n",
              "      <td>0.664488</td>\n",
              "      <td>-0.218501</td>\n",
              "      <td>0.002935</td>\n",
              "      <td>0.005594</td>\n",
              "    </tr>\n",
              "  </tbody>\n",
              "</table>\n",
              "<p>100 rows × 4 columns</p>\n",
              "</div>"
            ],
            "text/plain": [
              "              cl     cm_le  cl_error  cm_error\n",
              "Panels                                        \n",
              "5       0.624748 -0.209214  0.062565  0.047861\n",
              "6       0.631626 -0.211105  0.052245  0.039255\n",
              "8       0.640170 -0.213299  0.039424  0.029270\n",
              "10      0.645257 -0.214511  0.031792  0.023754\n",
              "12      0.648643 -0.215281  0.026710  0.020250\n",
              "...          ...       ...       ...       ...\n",
              "192     0.664446 -0.218494  0.002997  0.005629\n",
              "194     0.664457 -0.218496  0.002981  0.005620\n",
              "196     0.664468 -0.218498  0.002965  0.005611\n",
              "198     0.664478 -0.218499  0.002950  0.005603\n",
              "200     0.664488 -0.218501  0.002935  0.005594\n",
              "\n",
              "[100 rows x 4 columns]"
            ]
          },
          "metadata": {
            "tags": []
          },
          "execution_count": 9
        }
      ]
    },
    {
      "cell_type": "code",
      "metadata": {
        "id": "1PU-NGw4myCr",
        "colab_type": "code",
        "colab": {}
      },
      "source": [
        "\n",
        "data.to_csv(\"grid_convergence_200plus.csv\")"
      ],
      "execution_count": null,
      "outputs": []
    },
    {
      "cell_type": "markdown",
      "metadata": {
        "id": "PvvrGuNVmyCz",
        "colab_type": "text"
      },
      "source": [
        "### Convergence Plots"
      ]
    },
    {
      "cell_type": "code",
      "metadata": {
        "id": "wpqpzCUgmyC2",
        "colab_type": "code",
        "colab": {
          "base_uri": "https://localhost:8080/",
          "height": 279
        },
        "outputId": "da573264-f4dd-4eec-ddca-4f49599781c5"
      },
      "source": [
        "fig, ax1 = plt.subplots(1,1)\n",
        "# data[\"cl\"].plot(ax=ax1, label=\"cl\")\n",
        "ax1.scatter(data.index.values, data[\"cl\"], label=\"cl\")\n",
        "ax2 = ax1.twinx()\n",
        "# (data[\"cl_error\"]*100).iloc[:4].plot(ax=ax2, color=\"coral\", label=\"cl_error [%]\")\n",
        "ax2.scatter(data.index.values,(data[\"cl_error\"]*100), color=\"coral\", label=\"cl_error [%]\")\n",
        "ax1.set_ylabel(\"$C_l$\")\n",
        "ax2.set_ylabel(\"$C_l$ error [%]\")\n",
        "ax1.legend(loc=1, borderaxespad=2)\n",
        "ax2.legend(loc=4, borderaxespad=2)\n",
        "ax2.set_xlabel(\"Number of Panels\")\n",
        "ax1.set_xlabel(\"Number of Panels\")\n",
        "\n",
        "plt.show()"
      ],
      "execution_count": null,
      "outputs": [
        {
          "output_type": "display_data",
          "data": {
            "image/png": "[encoded data removed]",
            "text/plain": [
              "<Figure size 432x288 with 2 Axes>"
            ]
          },
          "metadata": {
            "tags": []
          }
        }
      ]
    },
    {
      "cell_type": "code",
      "metadata": {
        "id": "M1X4Vp0ZmyDD",
        "colab_type": "code",
        "colab": {}
      },
      "source": [
        "fig.savefig(\"cl_err2.png\", bbox_inches='tight' )"
      ],
      "execution_count": null,
      "outputs": []
    },
    {
      "cell_type": "code",
      "metadata": {
        "id": "1ONHXsIYmyDG",
        "colab_type": "code",
        "colab": {
          "base_uri": "https://localhost:8080/",
          "height": 283
        },
        "outputId": "45f79165-fce6-4ded-905c-59f630676222"
      },
      "source": [
        "fig2, ax12 = plt.subplots(1,1)\n",
        "data[\"cm_le\"].plot(ax=ax12, label=\"cm_le\")\n",
        "ax22 = ax12.twinx()\n",
        "(data[\"cm_error\"]*100).plot(ax=ax22,color=\"coral\", label=\"cm_le_error [%]\")\n",
        "ax12.set_ylabel(\"$Cm_{le}$\")\n",
        "ax22.set_ylabel(\"$Cm_{le}$ error [%]\")\n",
        "ax22.set_yticks([0, 1, 3, 4, 5])\n",
        "ax12.legend(loc=4, borderaxespad=5)\n",
        "ax22.legend(loc=5, borderaxespad=3)\n",
        "ax2.set_xlabel(\"Number of Panels\")\n",
        "ax1.set_xlabel(\"Number of Panels\")\n",
        "\n",
        "plt.show()"
      ],
      "execution_count": null,
      "outputs": [
        {
          "output_type": "display_data",
          "data": {
            "image/png": "[encoded data removed]",
            "text/plain": [
              "<Figure size 432x288 with 2 Axes>"
            ]
          },
          "metadata": {
            "tags": []
          }
        }
      ]
    },
    {
      "cell_type": "code",
      "metadata": {
        "id": "onSaUW8bmyDR",
        "colab_type": "code",
        "colab": {}
      },
      "source": [
        "fig2.savefig(\"cmle_error2.png\", bbox_inches='tight')"
      ],
      "execution_count": null,
      "outputs": []
    },
    {
      "cell_type": "markdown",
      "metadata": {
        "id": "4v-mlb-ZmyDT",
        "colab_type": "text"
      },
      "source": [
        "# Flap efficency\n",
        "Using 170 panels, and varying the flap-chord ratio"
      ]
    },
    {
      "cell_type": "code",
      "metadata": {
        "id": "h_YNeKffmyDV",
        "colab_type": "code",
        "colab": {
          "base_uri": "https://localhost:8080/",
          "height": 266
        },
        "outputId": "0cb7c018-7149-4784-b13d-95076743e168"
      },
      "source": [
        "# Prepare data verification array\n",
        "dataverif_array = np.array([[0,0]]) \n",
        "flap_chord_ratios = np.array([0.15, 0.20, 0.25, 0.30])\n",
        "# Hinge positions in percent of chord\n",
        "flap_positions = 1 - flap_chord_ratios\n",
        "flap_positions = np.around(flap_positions, decimals=3)\n",
        "flap_angles = np.linspace(0,10,20) \n",
        "alphaL0_dic = {}\n",
        "\n",
        "for position in flap_positions:\n",
        "    for flap in flap_angles:\n",
        "        args = {\"naca\": \"2408\", \n",
        "            \"alpha\": 0  ,\n",
        "            \"geometry\": \"fullcosine\",\n",
        "            \"panels\": 105,\n",
        "            \"flappos\": position,\n",
        "            \"flapalpha\":flap\n",
        "            }\n",
        "        _cl = dvm_solver2(args)[\"cl\"]\n",
        "        _alphaL0 = np.rad2deg(-(_cl/(2*np.pi)))\n",
        "        if flap == 0:\n",
        "            alphaL0_dic[position] = []\n",
        "        alphaL0_dic[position].append(_alphaL0)\n",
        "\n",
        "        \n",
        "alphaL0_df = pd.DataFrame(alphaL0_dic, index = flap_angles, columns = flap_positions)\n",
        "\n",
        "\n",
        "alphaL0_df.head(7)"
      ],
      "execution_count": null,
      "outputs": [
        {
          "output_type": "execute_result",
          "data": {
            "text/html": [
              "<div>\n",
              "<style scoped>\n",
              "    .dataframe tbody tr th:only-of-type {\n",
              "        vertical-align: middle;\n",
              "    }\n",
              "\n",
              "    .dataframe tbody tr th {\n",
              "        vertical-align: top;\n",
              "    }\n",
              "\n",
              "    .dataframe thead th {\n",
              "        text-align: right;\n",
              "    }\n",
              "</style>\n",
              "<table border=\"1\" class=\"dataframe\">\n",
              "  <thead>\n",
              "    <tr style=\"text-align: right;\">\n",
              "      <th></th>\n",
              "      <th>0.85</th>\n",
              "      <th>0.80</th>\n",
              "      <th>0.75</th>\n",
              "      <th>0.70</th>\n",
              "    </tr>\n",
              "  </thead>\n",
              "  <tbody>\n",
              "    <tr>\n",
              "      <th>0.000000</th>\n",
              "      <td>-2.057893</td>\n",
              "      <td>-2.057893</td>\n",
              "      <td>-2.057893</td>\n",
              "      <td>-2.057893</td>\n",
              "    </tr>\n",
              "    <tr>\n",
              "      <th>0.526316</th>\n",
              "      <td>-2.308088</td>\n",
              "      <td>-2.344712</td>\n",
              "      <td>-2.375976</td>\n",
              "      <td>-2.403310</td>\n",
              "    </tr>\n",
              "    <tr>\n",
              "      <th>1.052632</th>\n",
              "      <td>-2.558162</td>\n",
              "      <td>-2.631399</td>\n",
              "      <td>-2.693917</td>\n",
              "      <td>-2.748579</td>\n",
              "    </tr>\n",
              "    <tr>\n",
              "      <th>1.578947</th>\n",
              "      <td>-2.808139</td>\n",
              "      <td>-2.917979</td>\n",
              "      <td>-3.011746</td>\n",
              "      <td>-3.093734</td>\n",
              "    </tr>\n",
              "    <tr>\n",
              "      <th>2.105263</th>\n",
              "      <td>-3.058043</td>\n",
              "      <td>-3.204479</td>\n",
              "      <td>-3.329492</td>\n",
              "      <td>-3.438805</td>\n",
              "    </tr>\n",
              "    <tr>\n",
              "      <th>2.631579</th>\n",
              "      <td>-3.307897</td>\n",
              "      <td>-3.490926</td>\n",
              "      <td>-3.647185</td>\n",
              "      <td>-3.783825</td>\n",
              "    </tr>\n",
              "    <tr>\n",
              "      <th>3.157895</th>\n",
              "      <td>-3.557725</td>\n",
              "      <td>-3.777346</td>\n",
              "      <td>-3.964853</td>\n",
              "      <td>-4.128826</td>\n",
              "    </tr>\n",
              "  </tbody>\n",
              "</table>\n",
              "</div>"
            ],
            "text/plain": [
              "              0.85      0.80      0.75      0.70\n",
              "0.000000 -2.057893 -2.057893 -2.057893 -2.057893\n",
              "0.526316 -2.308088 -2.344712 -2.375976 -2.403310\n",
              "1.052632 -2.558162 -2.631399 -2.693917 -2.748579\n",
              "1.578947 -2.808139 -2.917979 -3.011746 -3.093734\n",
              "2.105263 -3.058043 -3.204479 -3.329492 -3.438805\n",
              "2.631579 -3.307897 -3.490926 -3.647185 -3.783825\n",
              "3.157895 -3.557725 -3.777346 -3.964853 -4.128826"
            ]
          },
          "metadata": {
            "tags": []
          },
          "execution_count": 15
        }
      ]
    },
    {
      "cell_type": "code",
      "metadata": {
        "id": "KzajMjtfmyDX",
        "colab_type": "code",
        "colab": {
          "base_uri": "https://localhost:8080/",
          "height": 306
        },
        "outputId": "dad5e229-0f7c-4a43-e7e9-366ced1f5c78"
      },
      "source": [
        "fig3, ax13 = plt.subplots(1,1)\n",
        "alphaL0_df.plot(ax=ax13, marker=\"o\")\n",
        "ax13.set_ylabel(\"$\\\\alpha_{L0}[^\\circ]$\", fontsize=20)\n",
        "ax13.set_xlabel(\"$\\\\eta[^\\circ]$\", fontsize=20)\n",
        "ax13.set_title(\"Flap Hinge-Chord Ratios\")\n",
        "ax13.legend( loc=0, borderaxespad=0)\n",
        "\n",
        "plt.show()"
      ],
      "execution_count": null,
      "outputs": [
        {
          "output_type": "display_data",
          "data": {
            "image/png": "[encoded data removed]",
            "text/plain": [
              "<Figure size 432x288 with 1 Axes>"
            ]
          },
          "metadata": {
            "tags": []
          }
        }
      ]
    },
    {
      "cell_type": "code",
      "metadata": {
        "id": "9DTXwmGpmyDg",
        "colab_type": "code",
        "colab": {}
      },
      "source": [
        "fig3.savefig(\"chord-flap.png\")"
      ],
      "execution_count": null,
      "outputs": []
    },
    {
      "cell_type": "markdown",
      "metadata": {
        "id": "ruqlwhi8myDk",
        "colab_type": "text"
      },
      "source": [
        "##### Find Slope/ Flap efficency\n",
        "\n",
        "We find the slope for every flap-chord ratio"
      ]
    },
    {
      "cell_type": "code",
      "metadata": {
        "id": "1yAidLZOmyDl",
        "colab_type": "code",
        "colab": {}
      },
      "source": [
        "slopes = {}\n",
        "for pos in alphaL0_df.columns:\n",
        "    slope, _a = np.polyfit(x=alphaL0_df.index, y=alphaL0_df[pos], deg=1)\n",
        "    slopes[pos] = slope \n",
        "flap_df = pd.DataFrame(slopes,columns = alphaL0_df.columns ,index=[\"Flap Efficency Factor\"])\n"
      ],
      "execution_count": null,
      "outputs": []
    },
    {
      "cell_type": "code",
      "metadata": {
        "id": "FEvbX0U-myDr",
        "colab_type": "code",
        "colab": {
          "base_uri": "https://localhost:8080/",
          "height": 173
        },
        "outputId": "ca699194-a7b4-4699-fa56-beba5889cc81"
      },
      "source": [
        "flap_dfT = flap_df.T\n",
        "flap_dfT[\"E\"] = 1- flap_dfT.index\n",
        "flap_dfT[\"Eff\"] = abs(flap_dfT[\"Flap Efficency Factor\"])\n",
        "flap_dfT.head()"
      ],
      "execution_count": null,
      "outputs": [
        {
          "output_type": "execute_result",
          "data": {
            "text/html": [
              "<div>\n",
              "<style scoped>\n",
              "    .dataframe tbody tr th:only-of-type {\n",
              "        vertical-align: middle;\n",
              "    }\n",
              "\n",
              "    .dataframe tbody tr th {\n",
              "        vertical-align: top;\n",
              "    }\n",
              "\n",
              "    .dataframe thead th {\n",
              "        text-align: right;\n",
              "    }\n",
              "</style>\n",
              "<table border=\"1\" class=\"dataframe\">\n",
              "  <thead>\n",
              "    <tr style=\"text-align: right;\">\n",
              "      <th></th>\n",
              "      <th>Flap Efficency Factor</th>\n",
              "      <th>E</th>\n",
              "      <th>Eff</th>\n",
              "    </tr>\n",
              "  </thead>\n",
              "  <tbody>\n",
              "    <tr>\n",
              "      <th>0.85</th>\n",
              "      <td>-0.475383</td>\n",
              "      <td>0.15</td>\n",
              "      <td>0.475383</td>\n",
              "    </tr>\n",
              "    <tr>\n",
              "      <th>0.80</th>\n",
              "      <td>-0.545022</td>\n",
              "      <td>0.20</td>\n",
              "      <td>0.545022</td>\n",
              "    </tr>\n",
              "    <tr>\n",
              "      <th>0.75</th>\n",
              "      <td>-0.604519</td>\n",
              "      <td>0.25</td>\n",
              "      <td>0.604519</td>\n",
              "    </tr>\n",
              "    <tr>\n",
              "      <th>0.70</th>\n",
              "      <td>-0.656589</td>\n",
              "      <td>0.30</td>\n",
              "      <td>0.656589</td>\n",
              "    </tr>\n",
              "  </tbody>\n",
              "</table>\n",
              "</div>"
            ],
            "text/plain": [
              "      Flap Efficency Factor     E       Eff\n",
              "0.85              -0.475383  0.15  0.475383\n",
              "0.80              -0.545022  0.20  0.545022\n",
              "0.75              -0.604519  0.25  0.604519\n",
              "0.70              -0.656589  0.30  0.656589"
            ]
          },
          "metadata": {
            "tags": []
          },
          "execution_count": 19
        }
      ]
    },
    {
      "cell_type": "markdown",
      "metadata": {
        "id": "fH9_N5zmmyDt",
        "colab_type": "text"
      },
      "source": [
        "Now we modify and transpose our dataframe to plot The flap efficency factor vs the Flap-Chord Ratio **E**.\n",
        "\n",
        "$E = 1- \\frac{x_h}{c} $\n",
        "\n",
        "Where $\\frac{x_h}{c}$ is the hinge position in percent of chord.\n"
      ]
    },
    {
      "cell_type": "code",
      "metadata": {
        "scrolled": true,
        "id": "CA1vpyU1myDu",
        "colab_type": "code",
        "colab": {
          "base_uri": "https://localhost:8080/",
          "height": 296
        },
        "outputId": "2a9fa5b1-3f04-4953-87a0-fca67ea719ea"
      },
      "source": [
        "flap_dfT[\"corrected\"] = flap_dfT[\"Eff\"] * 0.8\n",
        "fig32, ax132 = plt.subplots(1,1)\n",
        "flap_dfT.plot(ax = ax132, x =\"E\", y= \"Eff\", marker = \"o\", label= \"Theoretical\",)\n",
        "flap_dfT.plot(ax = ax132, x =\"E\", y= \"corrected\", marker = \"o\", label=\"corrected\" )\n",
        "\n",
        "ax132.set_ylabel(\"$\\\\frac{\\\\partial \\\\alpha_{L0}}{\\\\partial \\\\eta}$\", fontsize=20);\n",
        "ax132.set_xlabel(\"E (Flap-Chord ratios)\");\n",
        "ax132.set_title(\"Flap Efficency Factor\");\n",
        "ax132.set_xticks([0.0, 0.1, 0.2, 0.3, 0.4, 0.5]);\n",
        "ax132.set_yticks([0.0, 0.2, 0.4, 0.6, 0.8]);"
      ],
      "execution_count": null,
      "outputs": [
        {
          "output_type": "display_data",
          "data": {
            "image/png": "[encoded data removed]",
            "text/plain": [
              "<Figure size 432x288 with 1 Axes>"
            ]
          },
          "metadata": {
            "tags": []
          }
        }
      ]
    },
    {
      "cell_type": "code",
      "metadata": {
        "id": "JYWeWWOomyDw",
        "colab_type": "code",
        "colab": {}
      },
      "source": [
        "fig32.savefig(\"flap_E3.png\", bbox_inches='tight')"
      ],
      "execution_count": null,
      "outputs": []
    },
    {
      "cell_type": "markdown",
      "metadata": {
        "id": "Z76MYonBmyDy",
        "colab_type": "text"
      },
      "source": [
        "We obtain the expected plot shape, such as the one in pp. 190 in  Abbot and Doenhoff Theory of Wing Sections. Values for E from 0.15 to 0.30 correspond very accurately to the theoretical curve plot from Abbot and Doenhoff.\n"
      ]
    },
    {
      "cell_type": "markdown",
      "metadata": {
        "id": "UgvDnpNnmyD2",
        "colab_type": "text"
      },
      "source": [
        "# 2- Validation assessment\n",
        "\n",
        "- $C_{L,\\alpha}$\n",
        "- $\\alpha_{l0}$\n",
        "- $C_{M0}$\n",
        "- Flap efficency"
      ]
    },
    {
      "cell_type": "code",
      "metadata": {
        "id": "-ZS9QOj_myD3",
        "colab_type": "code",
        "colab": {
          "base_uri": "https://localhost:8080/",
          "height": 235
        },
        "outputId": "cb6944c8-d221-478f-acbf-4d5a0e530751"
      },
      "source": [
        "# Prepare data validation array with varying angles of attacks\n",
        "datavalid_array = np.array([[0,0]]) \n",
        "alphas = np.linspace(-5,10,25, dtype=float) \n",
        "\n",
        "for alpha in alphas:\n",
        "    args = {\"naca\": \"2408\", \n",
        "            \"alpha\": alpha  ,\n",
        "            \"geometry\": \"fullcosine\",\n",
        "            \"panels\": 105,\n",
        "            \"flappos\": False,\n",
        "            \"flapalpha\":False\n",
        "            }\n",
        "    _result = dvm_solver2(args)\n",
        "    datavalid_array = np.vstack((datavalid_array,[_result[\"cl\"], _result[\"cm_le\"]]))\n",
        "\n",
        "# Delete initialization row\n",
        "datavalid_array = np.delete(datavalid_array, (0), axis=0)\n",
        "\n",
        "datavalid_df = pd.DataFrame(datavalid_array, index = alphas, columns = [\"cl\", \"cm_le\"])\n",
        "datavalid_df.index.name = \"alpha\"\n",
        "datavalid_df.head()"
      ],
      "execution_count": null,
      "outputs": [
        {
          "output_type": "execute_result",
          "data": {
            "text/html": [
              "<div>\n",
              "<style scoped>\n",
              "    .dataframe tbody tr th:only-of-type {\n",
              "        vertical-align: middle;\n",
              "    }\n",
              "\n",
              "    .dataframe tbody tr th {\n",
              "        vertical-align: top;\n",
              "    }\n",
              "\n",
              "    .dataframe thead th {\n",
              "        text-align: right;\n",
              "    }\n",
              "</style>\n",
              "<table border=\"1\" class=\"dataframe\">\n",
              "  <thead>\n",
              "    <tr style=\"text-align: right;\">\n",
              "      <th></th>\n",
              "      <th>cl</th>\n",
              "      <th>cm_le</th>\n",
              "    </tr>\n",
              "    <tr>\n",
              "      <th>alpha</th>\n",
              "      <th></th>\n",
              "      <th></th>\n",
              "    </tr>\n",
              "  </thead>\n",
              "  <tbody>\n",
              "    <tr>\n",
              "      <th>-5.000</th>\n",
              "      <td>-0.322892</td>\n",
              "      <td>0.027318</td>\n",
              "    </tr>\n",
              "    <tr>\n",
              "      <th>-4.375</th>\n",
              "      <td>-0.254370</td>\n",
              "      <td>0.010230</td>\n",
              "    </tr>\n",
              "    <tr>\n",
              "      <th>-3.750</th>\n",
              "      <td>-0.185818</td>\n",
              "      <td>-0.006888</td>\n",
              "    </tr>\n",
              "    <tr>\n",
              "      <th>-3.125</th>\n",
              "      <td>-0.117244</td>\n",
              "      <td>-0.024029</td>\n",
              "    </tr>\n",
              "    <tr>\n",
              "      <th>-2.500</th>\n",
              "      <td>-0.048656</td>\n",
              "      <td>-0.041184</td>\n",
              "    </tr>\n",
              "  </tbody>\n",
              "</table>\n",
              "</div>"
            ],
            "text/plain": [
              "              cl     cm_le\n",
              "alpha                     \n",
              "-5.000 -0.322892  0.027318\n",
              "-4.375 -0.254370  0.010230\n",
              "-3.750 -0.185818 -0.006888\n",
              "-3.125 -0.117244 -0.024029\n",
              "-2.500 -0.048656 -0.041184"
            ]
          },
          "metadata": {
            "tags": []
          },
          "execution_count": 22
        }
      ]
    },
    {
      "cell_type": "markdown",
      "metadata": {
        "id": "OkjRVSf0myD5",
        "colab_type": "text"
      },
      "source": [
        "#### Plot Cl CM vs alpha"
      ]
    },
    {
      "cell_type": "code",
      "metadata": {
        "id": "fBxWRZY2myD6",
        "colab_type": "code",
        "colab": {
          "base_uri": "https://localhost:8080/",
          "height": 283
        },
        "outputId": "26019165-5cf1-4bb9-ef0a-a7701418e64f"
      },
      "source": [
        "fig4, ax14 = plt.subplots(1,1)\n",
        "datavalid_df[\"cl\"].plot(ax=ax14, label=\"cl\", marker=\"o\")\n",
        "ax24 = ax14.twinx()\n",
        "datavalid_df[\"cm_le\"].plot(ax=ax24,color=\"coral\", label=\"cm_le\", marker = \"o\")\n",
        "ax14.set_ylabel(\"$C_l$\",fontsize=15)\n",
        "ax24.set_ylabel(\"$Cm_{le}$\",fontsize=15)\n",
        "ax14.set_xlabel(\"$\\\\alpha [^\\\\circ]$\", fontsize=15)\n",
        "ax24.set_xlabel(\"$\\\\alpha [^\\\\circ]$\",fontsize=15)\n",
        "\n",
        "ax14.legend(loc=7, borderaxespad=3)\n",
        "ax24.legend(loc=5, borderaxespad=10)\n",
        "\n",
        "plt.show()\n",
        "\n",
        "\n",
        "# save fig\n",
        "# plt.savefig(\"CLCM-alpha.png\")\n",
        "fig4.savefig(\"cl-cm-alpha_final2.png\", bbox_inches='tight')"
      ],
      "execution_count": null,
      "outputs": [
        {
          "output_type": "display_data",
          "data": {
            "image/png": "[encoded data removed]",
            "text/plain": [
              "<Figure size 432x288 with 2 Axes>"
            ]
          },
          "metadata": {
            "tags": []
          }
        }
      ]
    },
    {
      "cell_type": "code",
      "metadata": {
        "id": "JNb7qqkN-HTy",
        "colab_type": "code",
        "colab": {
          "base_uri": "https://localhost:8080/",
          "height": 85
        },
        "outputId": "ead071af-9e71-4afc-d2d0-5300fa0b85b0"
      },
      "source": [
        "# Finding cl_a, a_lo_cm0\n",
        "cl_a, _ = np.polyfit(alphas*np.pi/180, datavalid_df[\"cl\"], 1)\n",
        "_, a_l0 = np.polyfit(datavalid_df[\"cl\"], alphas*np.pi/180 , 1)\n",
        "\n",
        "cm_a, _ = np.polyfit(alphas*np.pi/180, datavalid_df[\"cm_le\"],  1)\n",
        "_, cm_0 = np.polyfit(datavalid_df[\"cm_le\"],alphas*np.pi/180,  1)\n",
        "\n",
        "print(\"cl_a = {} \\na_l0={}={}deg\\ncm_o={} \\n ratio = {}\".format(cl_a, a_l0, a_l0*180/np.pi, cm_0, -cm_a/cl_a))"
      ],
      "execution_count": null,
      "outputs": [
        {
          "output_type": "stream",
          "text": [
            "cl_a = 6.256801228376121 \n",
            "a_l0=-0.03596403845754531=-2.060587617863529deg\n",
            "cm_o=-0.0707497423865473 \n",
            " ratio = 0.24653471206147592\n"
          ],
          "name": "stdout"
        }
      ]
    },
    {
      "cell_type": "code",
      "metadata": {
        "scrolled": true,
        "id": "XITnjIQgmyD8",
        "colab_type": "code",
        "colab": {
          "base_uri": "https://localhost:8080/",
          "height": 142
        },
        "outputId": "743db708-1664-4a3a-b3ed-21a26e3de755"
      },
      "source": [
        "EXPERIMENTAL_a_l0 = -2.109\n",
        "EXPERIMENTAL_cl_a = 2*np.pi\n",
        "EXPERIMENTAL_cm_0 = -0.0504\n",
        "\n",
        "valid_comparison = pd.DataFrame({\"cl_a\": [cl_a, EXPERIMENTAL_cl_a], \"a_l0\": [a_l0*180/np.pi, EXPERIMENTAL_a_l0], \"cm_0\":[cm_0, EXPERIMENTAL_cm_0]}, index=[\"Calculated\", \"Experimental\"])\n",
        "valid_comparison.loc[\"Error\"] = [abs(1-cl_a/EXPERIMENTAL_cl_a), abs(1-abs((a_l0*180/np.pi)/EXPERIMENTAL_a_l0)),  abs(1-abs(cm_0/EXPERIMENTAL_cm_0))]\n",
        "valid_comparison.head()"
      ],
      "execution_count": null,
      "outputs": [
        {
          "output_type": "execute_result",
          "data": {
            "text/html": [
              "<div>\n",
              "<style scoped>\n",
              "    .dataframe tbody tr th:only-of-type {\n",
              "        vertical-align: middle;\n",
              "    }\n",
              "\n",
              "    .dataframe tbody tr th {\n",
              "        vertical-align: top;\n",
              "    }\n",
              "\n",
              "    .dataframe thead th {\n",
              "        text-align: right;\n",
              "    }\n",
              "</style>\n",
              "<table border=\"1\" class=\"dataframe\">\n",
              "  <thead>\n",
              "    <tr style=\"text-align: right;\">\n",
              "      <th></th>\n",
              "      <th>cl_a</th>\n",
              "      <th>a_l0</th>\n",
              "      <th>cm_0</th>\n",
              "    </tr>\n",
              "  </thead>\n",
              "  <tbody>\n",
              "    <tr>\n",
              "      <th>Calculated</th>\n",
              "      <td>6.256801</td>\n",
              "      <td>-2.060588</td>\n",
              "      <td>-0.070750</td>\n",
              "    </tr>\n",
              "    <tr>\n",
              "      <th>Experimental</th>\n",
              "      <td>6.283185</td>\n",
              "      <td>-2.109000</td>\n",
              "      <td>-0.050400</td>\n",
              "    </tr>\n",
              "    <tr>\n",
              "      <th>Error</th>\n",
              "      <td>0.004199</td>\n",
              "      <td>0.022955</td>\n",
              "      <td>0.403765</td>\n",
              "    </tr>\n",
              "  </tbody>\n",
              "</table>\n",
              "</div>"
            ],
            "text/plain": [
              "                  cl_a      a_l0      cm_0\n",
              "Calculated    6.256801 -2.060588 -0.070750\n",
              "Experimental  6.283185 -2.109000 -0.050400\n",
              "Error         0.004199  0.022955  0.403765"
            ]
          },
          "metadata": {
            "tags": []
          },
          "execution_count": 25
        }
      ]
    },
    {
      "cell_type": "markdown",
      "metadata": {
        "id": "Kbjq0sr9myEG",
        "colab_type": "text"
      },
      "source": [
        " - As expected, the $C_{L,\\alpha}$ obtained is approximately $2\\pi$ \n",
        " - Also the $\\frac{C_{m, \\alpha}}{C_{L,\\alpha}}$ ratio equals 0.2467, a value very close to 1/4 of the chord, which is the aerodynamic center.\n",
        " \n",
        " - Comparing with the experimental results we get errors of less than 1% and a greater error with the Cm0."
      ]
    },
    {
      "cell_type": "markdown",
      "metadata": {
        "id": "t57g7J4OmyEH",
        "colab_type": "text"
      },
      "source": [
        "# 3 -  Discussion"
      ]
    },
    {
      "cell_type": "markdown",
      "metadata": {
        "id": "TXS_WC-TmyEI",
        "colab_type": "text"
      },
      "source": [
        ""
      ]
    },
    {
      "cell_type": "code",
      "metadata": {
        "id": "v_neEH-LmyEJ",
        "colab_type": "code",
        "colab": {
          "base_uri": "https://localhost:8080/",
          "height": 279
        },
        "outputId": "e070e043-95b8-4667-8689-eecee9b0dfec"
      },
      "source": [
        "# discussion_array = np.array([[0,0,0]]) \n",
        "nacaf = [0,2,4,6]\n",
        "nacap = np.array([1,2,4,6])\n",
        "datafs = []\n",
        "dataps = {\"a_l0\": [], \"cm_0\": []}\n",
        "for f in nacaf:\n",
        "    for p in nacap:\n",
        "      naca = \"{}{}08\".format(str(f), str(p))\n",
        "      args = {\"naca\": naca, \n",
        "              \"alpha\": 0  ,\n",
        "              \"geometry\": \"fullcosine\",\n",
        "              \"panels\": 105,\n",
        "              \"flappos\": False,\n",
        "              \"flapalpha\":False\n",
        "              }\n",
        "      result = dvm_solver2(args)\n",
        "      _cl, _cm_0 = result[\"cl\"], result[\"cm_ac\"]\n",
        "      _a_l0 = np.rad2deg(-(_cl/(2*np.pi)))\n",
        "      dataps[\"a_l0\"].append(_a_l0)\n",
        "      dataps[\"cm_0\"].append(_cm_0)\n",
        "    # data_discuss.append(f_curve)\n",
        "    datafs.append(dataps)\n",
        "    dataps = {\"a_l0\": [], \"cm_0\": []}\n",
        "\n",
        "for idx, f_curve in enumerate(datafs):\n",
        "  # names = [\"{}{}08\".format(str(f), str(p)) for p in nacap for f in nacaf] \n",
        "  plt.plot(nacap*0.1, f_curve[\"a_l0\"],)\n",
        "plt.xlabel(\"p\")\n",
        "plt.ylabel(\"$\\\\alpha_{l0}$\")\n",
        "plt.legend([\"f={:.2f}\".format(f*0.01) for f in nacaf])\n",
        "plt.savefig(\"discussion_cl.png\", bbox_inches='tight')\n"
      ],
      "execution_count": null,
      "outputs": [
        {
          "output_type": "display_data",
          "data": {
            "image/png": "[encoded data removed]",
            "text/plain": [
              "<Figure size 432x288 with 1 Axes>"
            ]
          },
          "metadata": {
            "tags": []
          }
        }
      ]
    },
    {
      "cell_type": "code",
      "metadata": {
        "id": "EbDbD_HP_87E",
        "colab_type": "code",
        "colab": {
          "base_uri": "https://localhost:8080/",
          "height": 279
        },
        "outputId": "069cea6f-23eb-4a9b-d5f0-77767299247a"
      },
      "source": [
        "for idx, f_curve in enumerate(datafs):\n",
        "  # names = [\"{}{}08\".format(str(f), str(p)) for p in nacap for f in nacaf] \n",
        "  plt.plot(nacap*0.1, f_curve[\"cm_0\"],)\n",
        "plt.xlabel(\"p\")\n",
        "plt.ylabel(\"$c_{m_{0}}$\")\n",
        "plt.legend([\"f={:.2f}\".format(f*0.01) for f in nacaf])\n",
        "plt.savefig(\"discussion_cm.png\", bbox_inches='tight')"
      ],
      "execution_count": null,
      "outputs": [
        {
          "output_type": "display_data",
          "data": {
            "image/png": "[encoded data removed]",
            "text/plain": [
              "<Figure size 432x288 with 1 Axes>"
            ]
          },
          "metadata": {
            "tags": []
          }
        }
      ]
    },
    {
      "cell_type": "markdown",
      "metadata": {
        "id": "ayN2kDPqC1u7",
        "colab_type": "text"
      },
      "source": [
        "alpha lzero decreases with an increasing max camber(f) and max chamber position.( p) For high fs, al0 and cm0 decrease more notably along p.\n",
        "\n"
      ]
    },
    {
      "cell_type": "code",
      "metadata": {
        "id": "I0jUHM64EJ4n",
        "colab_type": "code",
        "colab": {}
      },
      "source": [
        ""
      ],
      "execution_count": null,
      "outputs": []
    }
  ]
}